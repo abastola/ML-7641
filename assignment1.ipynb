{
 "cells": [
  {
   "cell_type": "markdown",
   "metadata": {
    "colab_type": "text",
    "id": "DB0vv4pBcWu9"
   },
   "source": [
    "# Machine Learning: Assignment 1"
   ]
  },
  {
   "cell_type": "code",
   "execution_count": 8,
   "metadata": {
    "colab": {},
    "colab_type": "code",
    "id": "GalZFbfhcWvA"
   },
   "outputs": [],
   "source": [
    "#export\n",
    "import numpy as np\n",
    "import pandas as pd\n",
    "import time\n",
    "import gc\n",
    "import random\n",
    "from sklearn.model_selection import cross_val_score, GridSearchCV, cross_validate, train_test_split\n",
    "from sklearn.metrics import accuracy_score, classification_report, confusion_matrix\n",
    "from sklearn.datasets import make_classification\n",
    "from sklearn.svm import SVC\n",
    "from sklearn.tree import DecisionTreeClassifier\n",
    "from sklearn.neural_network import MLPClassifier\n",
    "from sklearn.ensemble import GradientBoostingClassifier\n",
    "from sklearn.preprocessing import StandardScaler, normalize\n",
    "from sklearn.decomposition import PCA\n",
    "from sklearn.impute import SimpleImputer\n",
    "from sklearn.neighbors import KNeighborsClassifier\n",
    "from sklearn.model_selection import validation_curve\n",
    "from sklearn.neural_network import MLPClassifier"
   ]
  },
  {
   "cell_type": "markdown",
   "metadata": {
    "colab_type": "text",
    "id": "2Z1gV3UlcWvD"
   },
   "source": [
    "# 1. Data Import, leansing Setup and helper functions"
   ]
  },
  {
   "cell_type": "code",
   "execution_count": 2,
   "metadata": {
    "colab": {},
    "colab_type": "code",
    "id": "9VS44b2kcWvE"
   },
   "outputs": [],
   "source": [
    "class Data():\n",
    "    def dataAllocation(self,path):\n",
    "        # df = pd.read_csv(path)\n",
    "        # x_data = df.iloc[:, :-1]\n",
    "        # y_data = df.iloc[:, -1 ]\n",
    "        # return x_data,y_data\n",
    "        X, y = make_classification(n_samples=2000, n_features=20, n_informative=15, n_redundant=5, random_state=6)\n",
    "        return X, y\n",
    "    def trainSets(self,x_data,y_data):\n",
    "        x_train, x_test, y_train, y_test = train_test_split(x_data, y_data, test_size = 0.3, random_state = 614, shuffle = True)\n",
    "        return x_train, x_test, y_train, y_test\n",
    "\n",
    "data = 'data/pima-indians-diabetes.csv'\n",
    "dataset = Data()\n",
    "x_data,y_data = dataset.dataAllocation(data)\n",
    "x_train, x_test, y_train, y_test = dataset.trainSets(x_data,y_data)"
   ]
  },
  {
   "cell_type": "markdown",
   "metadata": {
    "colab_type": "text",
    "id": "WbqnCyHAcWvP"
   },
   "source": [
    "# 2. Decision Tree Classifier"
   ]
  },
  {
   "cell_type": "code",
   "execution_count": 9,
   "metadata": {
    "colab": {},
    "colab_type": "code",
    "id": "dTtIFJW7cWvQ"
   },
   "outputs": [
    {
     "output_type": "stream",
     "name": "stdout",
     "text": [
      "Decision Tree Train Accuracy:  1.0\n",
      "Decision Tree Test Accuracy:  0.7533333333333333\n",
      "Decision Tree Feature Importance:  [0.10599244 0.01605822 0.04654131 0.04383789 0.00737014 0.03592744\n",
      " 0.02054209 0.05109409 0.04615388 0.03042644 0.03315248 0.01601513\n",
      " 0.07850746 0.02427983 0.22710661 0.05419933 0.03603494 0.03498714\n",
      " 0.03847413 0.05329899]\n",
      "Decision Tree Sorted Feature Importance:  [ 4 11  1  6 13  9 10 17  5 16 18  3  8  2  7 19 15 12  0 14]\n",
      "Decision Tree Best Parameters:  {'max_depth': 5}\n",
      "Decision Tree Best Score:  0.7892857142857143\n"
     ]
    }
   ],
   "source": [
    "class DTClassifier():\n",
    "    def decisionTreeClassifier(self,x_train,x_test, y_train):\n",
    "        dt_clf = DecisionTreeClassifier(random_state = 614)\n",
    "        dt_clf.fit(x_train, y_train)\n",
    "        y_predict_train = dt_clf.predict(x_train)\n",
    "        y_predict_test = dt_clf.predict(x_test)\n",
    "        return dt_clf,y_predict_train, y_predict_test\n",
    "    \n",
    "    def dtTrainAccuracy(self,y_train,y_predict_train):\n",
    "        return accuracy_score(y_predict_train, y_train)\n",
    "    \n",
    "    def dtTestAccuracy(self,y_test,y_predict_test):\n",
    "        return accuracy_score(y_predict_test, y_test)\n",
    "\n",
    "    def dtFeatureImportance(self,dt_clf):\n",
    "        return dt_clf.feature_importances_\n",
    "\n",
    "    def sortedDTFeatureImportanceIndicies(self,dt_clf):\n",
    "        return np.argsort(dt_clf.feature_importances_, )\n",
    "\n",
    "    def hyperParameterTuning(self,dt_clf,x_train,y_train):\n",
    "        param_grid = {'max_depth': range(1, 20) }\n",
    "        tune = GridSearchCV(estimator = dt_clf, param_grid = param_grid)\n",
    "        return tune.fit(x_train, y_train)\n",
    "    \n",
    "    def bestParams(self,gscv_dtc):\n",
    "        best_params = gscv_dtc.best_params_\n",
    "        return best_params\n",
    "\n",
    "    def bestScore(self,gscv_dtc):\n",
    "        best_score = gscv_dtc.best_score_\n",
    "        return best_score\n",
    "    \n",
    "dt = DTClassifier()\n",
    "dt_clf,y_predict_train, y_predict_test = dt.decisionTreeClassifier(x_train,x_test, y_train)\n",
    "print(\"Decision Tree Train Accuracy: \",dt.dtTrainAccuracy(y_train,y_predict_train))\n",
    "print(\"Decision Tree Test Accuracy: \",dt.dtTestAccuracy(y_test,y_predict_test))\n",
    "print(\"Decision Tree Feature Importance: \",dt.dtFeatureImportance(dt_clf))\n",
    "print(\"Decision Tree Sorted Feature Importance: \",dt.sortedDTFeatureImportanceIndicies(dt_clf))\n",
    "gscv_dtc = dt.hyperParameterTuning(dt_clf,x_train,y_train)\n",
    "print(\"Decision Tree Best Parameters: \",dt.bestParams(gscv_dtc))\n",
    "print(\"Decision Tree Best Score: \",dt.bestScore(gscv_dtc))\n"
   ]
  },
  {
   "source": [
    "# 3. Support Vector Machine"
   ],
   "cell_type": "markdown",
   "metadata": {}
  },
  {
   "cell_type": "code",
   "execution_count": 4,
   "metadata": {},
   "outputs": [
    {
     "output_type": "stream",
     "name": "stdout",
     "text": [
      "Support Vector Machine Trainn Accuracy:  0.7957142857142857\n",
      "Support Vector Machine Test Accuracy:  0.78\n",
      "{'C': 1.0, 'kernel': 'rbf'}\n",
      "Support Vector Machine Best Score:  0.9342857142857144\n",
      "Support Vector Machine Train Accuracy:  0.9642857142857143\n",
      "Support Vector Machine Test Accuracy:  0.94\n",
      "Support Vector Machine Rank Test Score:  [5 6 3 2 4 1]\n",
      "Support Vector Machine Mean Test Score:  [0.78642857 0.565      0.795      0.87714286 0.79142857 0.93428571]\n"
     ]
    }
   ],
   "source": [
    "class SupportVectorMachine():\n",
    "    def dataPreProcess(self,x_train,x_test):\n",
    "        scaler = StandardScaler()\n",
    "        scaled_x_train = scaler.fit_transform(x_train)\n",
    "        scaled_x_test = scaler.transform(x_test)\n",
    "        return scaled_x_train, scaled_x_test\n",
    "\n",
    "    def SVCClassifier(self,scaled_x_train,scaled_x_test, y_train):\n",
    "        model = SVC(kernel = \"linear\")\n",
    "        model.fit(scaled_x_train,y_train)\n",
    "        y_predict_train = model.predict(scaled_x_train)\n",
    "        y_predict_test = model.predict(scaled_x_test)\n",
    "        return y_predict_train,y_predict_test\n",
    "\n",
    "    def SVCTrainAccuracy(self,y_train,y_predict_train):\n",
    "        train_accuracy = accuracy_score(y_predict_train, y_train)\n",
    "        return train_accuracy\n",
    "\n",
    "    def SVCTestAccuracy(self,y_test,y_predict_test):\n",
    "        test_accuracy = accuracy_score(y_predict_test, y_test)\n",
    "        return test_accuracy\n",
    "\n",
    "    def SVMBestScore(self, scaled_x_train, y_train):\n",
    "        svm_parameters = {'kernel':('linear', 'rbf'), 'C':[0.01, 0.1, 1.0]}\n",
    "        svm_tune = SVC(gamma = \"auto\")\n",
    "        svm_cv = GridSearchCV(estimator = svm_tune, param_grid = svm_parameters, n_jobs=-1, return_train_score=True)\n",
    "        svm_cv.fit(scaled_x_train, y_train)\n",
    "        best_score = svm_cv.best_score_\n",
    "        print(svm_cv.best_params_)\n",
    "        return svm_cv, best_score\n",
    "\n",
    "    def SVCClassifierParam(self,svm_cv,scaled_x_train,scaled_x_test,y_train):\n",
    "        y_predict_train = svm_cv.predict(scaled_x_train)\n",
    "        y_predict_test = svm_cv.predict(scaled_x_test)\n",
    "        return y_predict_train, y_predict_test\n",
    "\n",
    "    def svcTrainAccuracy(self,y_train,y_predict_train):\n",
    "        train_accuracy = accuracy_score(y_predict_train, y_train)\n",
    "        return train_accuracy\n",
    "\n",
    "    def svcTestAccuracy(self,y_test,y_predict_test):\n",
    "        test_accuracy = accuracy_score(y_predict_test, y_test)\n",
    "        return test_accuracy\n",
    "\n",
    "    def SVMRankTestScore(self,svm_cv):\n",
    "        rank_test_score = svm_cv.cv_results_['rank_test_score']\n",
    "        return rank_test_score\n",
    "\n",
    "    def SVMMeanTestScore(self,svm_cv):\n",
    "        mean_test_score = svm_cv.cv_results_['mean_test_score']\n",
    "        return mean_test_score\n",
    "\n",
    "svm = SupportVectorMachine()\n",
    "scaled_x_train, scaled_x_test = svm.dataPreProcess(x_train,x_test)\n",
    "y_predict_train,y_predict_test = svm.SVCClassifier(scaled_x_train,scaled_x_test, y_train)\n",
    "print(\"Support Vector Machine Trainn Accuracy: \",svm.SVCTrainAccuracy(y_train,y_predict_train))\n",
    "print(\"Support Vector Machine Test Accuracy: \",svm.SVCTestAccuracy(y_test,y_predict_test))\n",
    "svm_cv, best_score = svm.SVMBestScore(scaled_x_train, y_train)\n",
    "print(\"Support Vector Machine Best Score: \", best_score)\n",
    "y_predict_train,y_predict_test = svm.SVCClassifierParam(svm_cv,scaled_x_train,scaled_x_test,y_train)\n",
    "print(\"Support Vector Machine Train Accuracy: \",svm.svcTrainAccuracy(y_train,y_predict_train))\n",
    "print(\"Support Vector Machine Test Accuracy: \",svm.svcTestAccuracy(y_test,y_predict_test))\n",
    "print(\"Support Vector Machine Rank Test Score: \",svm.SVMRankTestScore(svm_cv))\n",
    "print(\"Support Vector Machine Mean Test Score: \",svm.SVMMeanTestScore(svm_cv))"
   ]
  },
  {
   "source": [
    "# 4. KNN"
   ],
   "cell_type": "markdown",
   "metadata": {}
  },
  {
   "cell_type": "code",
   "execution_count": 5,
   "metadata": {},
   "outputs": [
    {
     "output_type": "stream",
     "name": "stdout",
     "text": [
      "Decision Tree Train Accuracy:  0.9442857142857143\n",
      "Decision Tree Test Accuracy:  0.8933333333333333\n",
      "Optimal n_neighbors:  5\n",
      "Decision Tree Train Accuracy:  0.9342857142857143\n",
      "Decision Tree Test Accuracy:  0.9033333333333333\n"
     ]
    }
   ],
   "source": [
    "class KNN():\n",
    "    def kNeighborsClassifier(self,x_train,x_test, y_train, n_neighbors):\n",
    "        dt_clf = KNeighborsClassifier(n_neighbors = n_neighbors)\n",
    "        dt_clf.fit(x_train, y_train)\n",
    "        y_predict_train = dt_clf.predict(x_train)\n",
    "        y_predict_test = dt_clf.predict(x_test)\n",
    "        return dt_clf,y_predict_train, y_predict_test\n",
    "    \n",
    "    def dtTrainAccuracy(self,y_train,y_predict_train):\n",
    "        train_accuracy = accuracy_score(y_predict_train, y_train)\n",
    "        return train_accuracy\n",
    "    \n",
    "    def dtTestAccuracy(self,y_test,y_predict_test):\n",
    "        test_accuracy = accuracy_score(y_predict_test, y_test)\n",
    "        return test_accuracy\n",
    "\n",
    "    def hyperParameterTuning(self,x_train,y_train):\n",
    "        train_scores, test_scores = validation_curve(KNeighborsClassifier(), x_train, y_train, param_name=\"n_neighbors\", param_range=range(1, 50), cv=5)\n",
    "        return np.argmax(np.mean(test_scores, axis=1)) + 1\n",
    "    \n",
    "    \n",
    "dt = KNN()\n",
    "dt_clf,y_predict_train, y_predict_test = dt.kNeighborsClassifier(x_train,x_test, y_train, 3)\n",
    "print(\"Decision Tree Train Accuracy: \",dt.dtTrainAccuracy(y_train,y_predict_train))\n",
    "print(\"Decision Tree Test Accuracy: \",dt.dtTestAccuracy(y_test,y_predict_test))\n",
    "n_neighbors_tuned = dt.hyperParameterTuning(x_train,y_train)\n",
    "print(\"Optimal n_neighbors: \", n_neighbors_tuned)\n",
    "dt_clf,y_predict_train, y_predict_test = dt.kNeighborsClassifier(x_train,x_test, y_train, n_neighbors_tuned)\n",
    "print(\"Decision Tree Train Accuracy: \",dt.dtTrainAccuracy(y_train,y_predict_train))\n",
    "print(\"Decision Tree Test Accuracy: \",dt.dtTestAccuracy(y_test,y_predict_test))\n"
   ]
  },
  {
   "source": [
    "# 5. Neural Network"
   ],
   "cell_type": "markdown",
   "metadata": {}
  },
  {
   "cell_type": "code",
   "execution_count": 6,
   "metadata": {},
   "outputs": [
    {
     "output_type": "stream",
     "name": "stdout",
     "text": [
      "Neural Network Train Accuracy:  0.9742857142857143\n",
      "Neural Network Test Accuracy:  0.9366666666666666\n",
      "Neural Network Optimized Test Accuracy:  0.91\n"
     ]
    }
   ],
   "source": [
    "class NN():\n",
    "    def dataPreProcess(self,x_train,x_test):\n",
    "        scaler = StandardScaler()\n",
    "        scaled_x_train = scaler.fit_transform(x_train)\n",
    "        scaled_x_test = scaler.transform(x_test)\n",
    "        return scaled_x_train, scaled_x_test\n",
    "\n",
    "    def mlpClassifier(self,scaled_x_train,scaled_x_test, y_train):\n",
    "        model = MLPClassifier(max_iter=100)\n",
    "\n",
    "        model.fit(scaled_x_train,y_train)\n",
    "        y_predict_train = model.predict(scaled_x_train)\n",
    "        y_predict_test = model.predict(scaled_x_test)\n",
    "        return y_predict_train, y_predict_test, model\n",
    "\n",
    "    def mlpTrainAccuracy(self,y_train,y_predict_train):\n",
    "        train_accuracy = accuracy_score(y_predict_train, y_train)\n",
    "        return train_accuracy\n",
    "\n",
    "    def mlpTestAccuracy(self,y_test,y_predict_test):\n",
    "        test_accuracy = accuracy_score(y_predict_test, y_test)\n",
    "        return test_accuracy\n",
    "    \n",
    "    def mlpBestScore(self, scaled_x_train, scaled_x_test, y_train, y_test, model):\n",
    "        mlp_parameters = {\n",
    "            'hidden_layer_sizes': [(10,30,10),(20,)],\n",
    "            'activation': ['tanh', 'relu'],\n",
    "            'solver': ['sgd', 'adam'],\n",
    "            'alpha': [0.0001, 0.05],\n",
    "            'learning_rate': ['constant','adaptive'],\n",
    "        }\n",
    "        mlp_cv = GridSearchCV(model, mlp_parameters)\n",
    "        mlp_cv.fit(scaled_x_train, y_train)\n",
    "        return mlp_cv, mlp_cv.predict(scaled_x_test)\n",
    "    \n",
    "    def optimizedTestAccuracy(self,y_test,y_predict_test):\n",
    "        test_accuracy = accuracy_score(y_predict_test, y_test)\n",
    "        return test_accuracy \n",
    "\n",
    "nn = NN()\n",
    "scaled_x_train, scaled_x_test = nn.dataPreProcess(x_train,x_test)\n",
    "y_predict_train,y_predict_test, model = nn.mlpClassifier(scaled_x_train,scaled_x_test, y_train)\n",
    "print(\"Neural Network Train Accuracy: \",nn.mlpTrainAccuracy(y_train,y_predict_train))\n",
    "print(\"Neural Network Test Accuracy: \",nn.mlpTestAccuracy(y_test,y_predict_test))\n",
    "nn_tuned, y_predict_test_optimized = nn.mlpBestScore(scaled_x_train, scaled_x_test, y_train, y_test, model)\n",
    "print(\"Neural Network Optimized Test Accuracy: \", nn.optimizedTestAccuracy(y_test, y_predict_test_optimized))\n"
   ]
  },
  {
   "source": [
    "# 6. Boost"
   ],
   "cell_type": "markdown",
   "metadata": {}
  },
  {
   "cell_type": "code",
   "execution_count": 7,
   "metadata": {},
   "outputs": [
    {
     "output_type": "stream",
     "name": "stdout",
     "text": [
      "Boosting Train Accuracy:  0.96\nBoosting Test Accuracy:  0.8633333333333333\n"
     ]
    }
   ],
   "source": [
    "class Boost():\n",
    "    def dataPreProcess(self,x_train,x_test):\n",
    "        scaler = StandardScaler()\n",
    "        scaled_x_train = scaler.fit_transform(x_train)\n",
    "        scaled_x_test = scaler.transform(x_test)\n",
    "        return scaled_x_train, scaled_x_test\n",
    "\n",
    "    def gradientBoostingClassifier(self,scaled_x_train,scaled_x_test, y_train):\n",
    "        model = GradientBoostingClassifier()\n",
    "\n",
    "        model.fit(scaled_x_train,y_train)\n",
    "        y_predict_train = model.predict(scaled_x_train)\n",
    "        y_predict_test = model.predict(scaled_x_test)\n",
    "        return y_predict_train, y_predict_test, model\n",
    "\n",
    "    def gbTrainAccuracy(self,y_train,y_predict_train):\n",
    "        train_accuracy = accuracy_score(y_predict_train, y_train)\n",
    "        return train_accuracy\n",
    "\n",
    "    def gbTestAccuracy(self,y_test,y_predict_test):\n",
    "        test_accuracy = accuracy_score(y_predict_test, y_test)\n",
    "        return test_accuracy\n",
    "    \n",
    "\n",
    "boost = Boost()\n",
    "scaled_x_train, scaled_x_test = boost.dataPreProcess(x_train,x_test)\n",
    "y_predict_train,y_predict_test, model = boost.gradientBoostingClassifier(scaled_x_train,scaled_x_test, y_train)\n",
    "print(\"Boosting Train Accuracy: \",boost.gbTrainAccuracy(y_train,y_predict_train))\n",
    "print(\"Boosting Test Accuracy: \",boost.gbTestAccuracy(y_test,y_predict_test))"
   ]
  },
  {
   "cell_type": "code",
   "execution_count": null,
   "metadata": {},
   "outputs": [],
   "source": []
  }
 ],
 "metadata": {
  "colab": {
   "name": "hw4q3.soln.ipynb",
   "provenance": []
  },
  "kernelspec": {
   "display_name": "Python 3",
   "language": "python",
   "name": "python3"
  },
  "language_info": {
   "codemirror_mode": {
    "name": "ipython",
    "version": 3
   },
   "file_extension": ".py",
   "mimetype": "text/x-python",
   "name": "python",
   "nbconvert_exporter": "python",
   "pygments_lexer": "ipython3",
   "version": "3.8.3"
  }
 },
 "nbformat": 4,
 "nbformat_minor": 1
}