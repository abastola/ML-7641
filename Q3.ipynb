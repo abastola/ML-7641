{
 "cells": [
  {
   "cell_type": "markdown",
   "metadata": {
    "colab_type": "text",
    "id": "DB0vv4pBcWu9"
   },
   "source": [
    "# Machine Learning: Assignment 1"
   ]
  },
  {
   "cell_type": "code",
   "execution_count": 1,
   "metadata": {
    "colab": {},
    "colab_type": "code",
    "id": "GalZFbfhcWvA"
   },
   "outputs": [],
   "source": [
    "#export\n",
    "import numpy as np\n",
    "import pandas as pd\n",
    "import time\n",
    "import gc\n",
    "import random\n",
    "from sklearn.model_selection import cross_val_score, GridSearchCV, cross_validate, train_test_split\n",
    "from sklearn.metrics import accuracy_score, classification_report\n",
    "from sklearn.svm import SVC\n",
    "from sklearn.tree import DecisionTreeClassifier\n",
    "from sklearn.linear_model import LinearRegression\n",
    "from sklearn.neural_network import MLPClassifier\n",
    "from sklearn.ensemble import RandomForestClassifier\n",
    "from sklearn.preprocessing import StandardScaler, normalize\n",
    "from sklearn.decomposition import PCA\n",
    "from sklearn.impute import SimpleImputer\n",
    "from sklearn.neighbors import KNeighborsClassifier\n",
    "from sklearn.model_selection import validation_curve\n",
    "from sklearn.neural_network import MLPClassifier"
   ]
  },
  {
   "cell_type": "markdown",
   "metadata": {
    "colab_type": "text",
    "id": "2Z1gV3UlcWvD"
   },
   "source": [
    "# 1. Data Import and Cleansing Setup"
   ]
  },
  {
   "cell_type": "code",
   "execution_count": 2,
   "metadata": {
    "colab": {},
    "colab_type": "code",
    "id": "9VS44b2kcWvE"
   },
   "outputs": [],
   "source": [
    "class Data():\n",
    "    def dataAllocation(self,path):\n",
    "        df = pd.read_csv(path)\n",
    "        x_data = df.iloc[:, :-1]\n",
    "        y_data = df.iloc[:, -1 ]\n",
    "        return x_data,y_data\n",
    "    def trainSets(self,x_data,y_data):\n",
    "        x_train, x_test, y_train, y_test = train_test_split(x_data, y_data, test_size = 0.3, random_state = 614, shuffle = True)\n",
    "        return x_train, x_test, y_train, y_test\n",
    "\n",
    "data = 'data/pima-indians-diabetes.csv'\n",
    "dataset = Data()\n",
    "x_data,y_data = dataset.dataAllocation(data)\n",
    "x_train, x_test, y_train, y_test = dataset.trainSets(x_data,y_data)"
   ]
  },
  {
   "cell_type": "markdown",
   "metadata": {
    "colab_type": "text",
    "id": "WbqnCyHAcWvP"
   },
   "source": [
    "# 2. Decision Tree Classifier"
   ]
  },
  {
   "cell_type": "code",
   "execution_count": 3,
   "metadata": {
    "colab": {},
    "colab_type": "code",
    "id": "dTtIFJW7cWvQ"
   },
   "outputs": [
    {
     "output_type": "stream",
     "name": "stdout",
     "text": [
      "Decision Tree Train Accuracy:  1.0\n",
      "Decision Tree Test Accuracy:  0.7316017316017316\n",
      "Decision Tree Feature Importance:  [0.05886381 0.30438329 0.15508772 0.06707523 0.04054901 0.16274605\n",
      " 0.10534438 0.1059505 ]\n",
      "Decision Tree Sorted Feature Importance:  [4 0 3 6 7 2 5 1]\n",
      "Decision Tree Best Parameters:  {'max_depth': 5}\n",
      "Decision Tree Best Score:  0.7430771893388716\n"
     ]
    }
   ],
   "source": [
    "class DTClassifier():\n",
    "    def decisionTreeClassifier(self,x_train,x_test, y_train):\n",
    "        dt_clf = DecisionTreeClassifier(random_state = 614)\n",
    "        dt_clf.fit(x_train, y_train)\n",
    "        y_predict_train = dt_clf.predict(x_train)\n",
    "        y_predict_test = dt_clf.predict(x_test)\n",
    "        return dt_clf,y_predict_train, y_predict_test\n",
    "    \n",
    "    def dtTrainAccuracy(self,y_train,y_predict_train):\n",
    "        return accuracy_score(y_predict_train, y_train)\n",
    "    \n",
    "    def dtTestAccuracy(self,y_test,y_predict_test):\n",
    "        return accuracy_score(y_predict_test, y_test)\n",
    "\n",
    "    def dtFeatureImportance(self,dt_clf):\n",
    "        return dt_clf.feature_importances_\n",
    "\n",
    "    def sortedDTFeatureImportanceIndicies(self,dt_clf):\n",
    "        return np.argsort(dt_clf.feature_importances_, )\n",
    "\n",
    "    def hyperParameterTuning(self,dt_clf,x_train,y_train):\n",
    "        param_grid = {'max_depth': range(1, 20) }\n",
    "        tune = GridSearchCV(estimator = dt_clf, param_grid = param_grid)\n",
    "        return tune.fit(x_train, y_train)\n",
    "    \n",
    "    def bestParams(self,gscv_dtc):\n",
    "        best_params = gscv_dtc.best_params_\n",
    "        return best_params\n",
    "\n",
    "    def bestScore(self,gscv_dtc):\n",
    "        best_score = gscv_dtc.best_score_\n",
    "        return best_score\n",
    "    \n",
    "dt = DTClassifier()\n",
    "dt_clf,y_predict_train, y_predict_test = dt.decisionTreeClassifier(x_train,x_test, y_train)\n",
    "print(\"Decision Tree Train Accuracy: \",dt.dtTrainAccuracy(y_train,y_predict_train))\n",
    "print(\"Decision Tree Test Accuracy: \",dt.dtTestAccuracy(y_test,y_predict_test))\n",
    "print(\"Decision Tree Feature Importance: \",dt.dtFeatureImportance(dt_clf))\n",
    "print(\"Decision Tree Sorted Feature Importance: \",dt.sortedDTFeatureImportanceIndicies(dt_clf))\n",
    "gscv_dtc = dt.hyperParameterTuning(dt_clf,x_train,y_train)\n",
    "print(\"Decision Tree Best Parameters: \",dt.bestParams(gscv_dtc))\n",
    "print(\"Decision Tree Best Score: \",dt.bestScore(gscv_dtc))\n"
   ]
  },
  {
   "source": [
    "# 3. Support Vector Machine"
   ],
   "cell_type": "markdown",
   "metadata": {}
  },
  {
   "cell_type": "code",
   "execution_count": 4,
   "metadata": {},
   "outputs": [
    {
     "output_type": "stream",
     "name": "stdout",
     "text": [
      "Support Vector Machine Trainn Accuracy:  0.7877094972067039\n",
      "Support Vector Machine Test Accuracy:  0.7575757575757576\n",
      "{'C': 1.0, 'kernel': 'linear'}\n",
      "Support Vector Machine Best Score:  0.7820526133610246\n",
      "Support Vector Machine Train Accuracy:  0.7877094972067039\n",
      "Support Vector Machine Test Accuracy:  0.7575757575757576\n",
      "Support Vector Machine Rank Test Score:  [4 6 2 5 1 3]\n",
      "Support Vector Machine Mean Test Score:  [0.77826237 0.63501211 0.782018   0.76341295 0.78205261 0.78033922]\n"
     ]
    }
   ],
   "source": [
    "class SupportVectorMachine():\n",
    "    def dataPreProcess(self,x_train,x_test):\n",
    "        scaler = StandardScaler()\n",
    "        scaled_x_train = scaler.fit_transform(x_train)\n",
    "        scaled_x_test = scaler.transform(x_test)\n",
    "        return scaled_x_train, scaled_x_test\n",
    "\n",
    "    def SVCClassifier(self,scaled_x_train,scaled_x_test, y_train):\n",
    "        model = SVC(kernel = \"linear\")\n",
    "        model.fit(scaled_x_train,y_train)\n",
    "        y_predict_train = model.predict(scaled_x_train)\n",
    "        y_predict_test = model.predict(scaled_x_test)\n",
    "        return y_predict_train,y_predict_test\n",
    "\n",
    "    def SVCTrainAccuracy(self,y_train,y_predict_train):\n",
    "        train_accuracy = accuracy_score(y_predict_train, y_train)\n",
    "        return train_accuracy\n",
    "\n",
    "    def SVCTestAccuracy(self,y_test,y_predict_test):\n",
    "        test_accuracy = accuracy_score(y_predict_test, y_test)\n",
    "        return test_accuracy\n",
    "\n",
    "    def SVMBestScore(self, scaled_x_train, y_train):\n",
    "        svm_parameters = {'kernel':('linear', 'rbf'), 'C':[0.01, 0.1, 1.0]}\n",
    "        svm_tune = SVC(gamma = \"auto\")\n",
    "        svm_cv = GridSearchCV(estimator = svm_tune, param_grid = svm_parameters, n_jobs=-1, return_train_score=True)\n",
    "        svm_cv.fit(scaled_x_train, y_train)\n",
    "        best_score = svm_cv.best_score_\n",
    "        print(svm_cv.best_params_)\n",
    "        return svm_cv, best_score\n",
    "\n",
    "    def SVCClassifierParam(self,svm_cv,scaled_x_train,scaled_x_test,y_train):\n",
    "        y_predict_train = svm_cv.predict(scaled_x_train)\n",
    "        y_predict_test = svm_cv.predict(scaled_x_test)\n",
    "        return y_predict_train, y_predict_test\n",
    "\n",
    "    def svcTrainAccuracy(self,y_train,y_predict_train):\n",
    "        train_accuracy = accuracy_score(y_predict_train, y_train)\n",
    "        return train_accuracy\n",
    "\n",
    "    def svcTestAccuracy(self,y_test,y_predict_test):\n",
    "        test_accuracy = accuracy_score(y_predict_test, y_test)\n",
    "        return test_accuracy\n",
    "\n",
    "    def SVMRankTestScore(self,svm_cv):\n",
    "        rank_test_score = svm_cv.cv_results_['rank_test_score']\n",
    "        return rank_test_score\n",
    "\n",
    "    def SVMMeanTestScore(self,svm_cv):\n",
    "        mean_test_score = svm_cv.cv_results_['mean_test_score']\n",
    "        return mean_test_score\n",
    "\n",
    "svm = SupportVectorMachine()\n",
    "scaled_x_train, scaled_x_test = svm.dataPreProcess(x_train,x_test)\n",
    "y_predict_train,y_predict_test = svm.SVCClassifier(scaled_x_train,scaled_x_test, y_train)\n",
    "print(\"Support Vector Machine Trainn Accuracy: \",svm.SVCTrainAccuracy(y_train,y_predict_train))\n",
    "print(\"Support Vector Machine Test Accuracy: \",svm.SVCTestAccuracy(y_test,y_predict_test))\n",
    "svm_cv, best_score = svm.SVMBestScore(scaled_x_train, y_train)\n",
    "print(\"Support Vector Machine Best Score: \", best_score)\n",
    "y_predict_train,y_predict_test = svm.SVCClassifierParam(svm_cv,scaled_x_train,scaled_x_test,y_train)\n",
    "print(\"Support Vector Machine Train Accuracy: \",svm.svcTrainAccuracy(y_train,y_predict_train))\n",
    "print(\"Support Vector Machine Test Accuracy: \",svm.svcTestAccuracy(y_test,y_predict_test))\n",
    "print(\"Support Vector Machine Rank Test Score: \",svm.SVMRankTestScore(svm_cv))\n",
    "print(\"Support Vector Machine Mean Test Score: \",svm.SVMMeanTestScore(svm_cv))"
   ]
  },
  {
   "source": [
    "# 4. KNN"
   ],
   "cell_type": "markdown",
   "metadata": {}
  },
  {
   "cell_type": "code",
   "execution_count": 5,
   "metadata": {},
   "outputs": [
    {
     "output_type": "stream",
     "name": "stdout",
     "text": [
      "Decision Tree Train Accuracy:  0.8472998137802608\n",
      "Decision Tree Test Accuracy:  0.6406926406926406\n",
      "Optimal n_neighbors:  12\n",
      "Decision Tree Train Accuracy:  0.7951582867783985\n",
      "Decision Tree Test Accuracy:  0.7012987012987013\n"
     ]
    }
   ],
   "source": [
    "class KNN():\n",
    "    def kNeighborsClassifier(self,x_train,x_test, y_train, n_neighbors):\n",
    "        dt_clf = KNeighborsClassifier(n_neighbors = n_neighbors)\n",
    "        dt_clf.fit(x_train, y_train)\n",
    "        y_predict_train = dt_clf.predict(x_train)\n",
    "        y_predict_test = dt_clf.predict(x_test)\n",
    "        return dt_clf,y_predict_train, y_predict_test\n",
    "    \n",
    "    def dtTrainAccuracy(self,y_train,y_predict_train):\n",
    "        train_accuracy = accuracy_score(y_predict_train, y_train)\n",
    "        return train_accuracy\n",
    "    \n",
    "    def dtTestAccuracy(self,y_test,y_predict_test):\n",
    "        test_accuracy = accuracy_score(y_predict_test, y_test)\n",
    "        return test_accuracy\n",
    "\n",
    "    def hyperParameterTuning(self,x_train,y_train):\n",
    "        train_scores, test_scores = validation_curve(KNeighborsClassifier(), x_train, y_train, param_name=\"n_neighbors\", param_range=range(1, 50), cv=5)\n",
    "        return np.argmax(np.mean(test_scores, axis=1)) + 1\n",
    "    \n",
    "    \n",
    "dt = KNN()\n",
    "dt_clf,y_predict_train, y_predict_test = dt.kNeighborsClassifier(x_train,x_test, y_train, 3)\n",
    "print(\"Decision Tree Train Accuracy: \",dt.dtTrainAccuracy(y_train,y_predict_train))\n",
    "print(\"Decision Tree Test Accuracy: \",dt.dtTestAccuracy(y_test,y_predict_test))\n",
    "n_neighbors_tuned = dt.hyperParameterTuning(x_train,y_train)\n",
    "print(\"Optimal n_neighbors: \", n_neighbors_tuned)\n",
    "dt_clf,y_predict_train, y_predict_test = dt.kNeighborsClassifier(x_train,x_test, y_train, n_neighbors_tuned)\n",
    "print(\"Decision Tree Train Accuracy: \",dt.dtTrainAccuracy(y_train,y_predict_train))\n",
    "print(\"Decision Tree Test Accuracy: \",dt.dtTestAccuracy(y_test,y_predict_test))\n"
   ]
  },
  {
   "source": [
    "# 5. Neural Network"
   ],
   "cell_type": "markdown",
   "metadata": {}
  },
  {
   "cell_type": "code",
   "execution_count": 6,
   "metadata": {},
   "outputs": [
    {
     "output_type": "stream",
     "name": "stdout",
     "text": [
      "Neural Network Train Accuracy:  0.8696461824953445\nNeural Network Test Accuracy:  0.70995670995671\n"
     ]
    }
   ],
   "source": [
    "class NN():\n",
    "    def dataPreProcess(self,x_train,x_test):\n",
    "        scaler = StandardScaler()\n",
    "        scaled_x_train = scaler.fit_transform(x_train)\n",
    "        scaled_x_test = scaler.transform(x_test)\n",
    "        return scaled_x_train, scaled_x_test\n",
    "\n",
    "    def mlpClassifier(self,scaled_x_train,scaled_x_test, y_train):\n",
    "        model = MLPClassifier(hidden_layer_sizes=(8,8,8),activation='relu', solver='adam', max_iter=500)\n",
    "\n",
    "        model.fit(scaled_x_train,y_train)\n",
    "        y_predict_train = model.predict(scaled_x_train)\n",
    "        y_predict_test = model.predict(scaled_x_test)\n",
    "        return y_predict_train,y_predict_test\n",
    "\n",
    "    def mlpTrainAccuracy(self,y_train,y_predict_train):\n",
    "        train_accuracy = accuracy_score(y_predict_train, y_train)\n",
    "        return train_accuracy\n",
    "\n",
    "    def mlpTestAccuracy(self,y_test,y_predict_test):\n",
    "        test_accuracy = accuracy_score(y_predict_test, y_test)\n",
    "        return test_accuracy\n",
    "\n",
    "\n",
    "svm = NN()\n",
    "scaled_x_train, scaled_x_test = svm.dataPreProcess(x_train,x_test)\n",
    "y_predict_train,y_predict_test = svm.mlpClassifier(scaled_x_train,scaled_x_test, y_train)\n",
    "print(\"Neural Network Train Accuracy: \",svm.mlpTrainAccuracy(y_train,y_predict_train))\n",
    "print(\"Neural Network Test Accuracy: \",svm.mlpTestAccuracy(y_test,y_predict_test))"
   ]
  },
  {
   "cell_type": "code",
   "execution_count": null,
   "metadata": {},
   "outputs": [],
   "source": []
  }
 ],
 "metadata": {
  "colab": {
   "name": "hw4q3.soln.ipynb",
   "provenance": []
  },
  "kernelspec": {
   "display_name": "Python 3",
   "language": "python",
   "name": "python3"
  },
  "language_info": {
   "codemirror_mode": {
    "name": "ipython",
    "version": 3
   },
   "file_extension": ".py",
   "mimetype": "text/x-python",
   "name": "python",
   "nbconvert_exporter": "python",
   "pygments_lexer": "ipython3",
   "version": "3.8.3-final"
  }
 },
 "nbformat": 4,
 "nbformat_minor": 1
}