{
 "cells": [
  {
   "cell_type": "code",
   "execution_count": null,
   "metadata": {},
   "outputs": [],
   "source": [
    "data = 'data/pima-indians-diabetes.csv'\n",
    "rs = 614\n",
    "dataset = Data()\n",
    "x1_data,y1_data = dataset.dataAllocation(data)\n",
    "x1_train, x1_test, y1_train, y1_test = dataset.trainSets(x1_data,y1_data)\n",
    "scaler = StandardScaler()\n",
    "scaled_x1_train = scaler.fit_transform(x1_train)\n",
    "scaled_x1_test = scaler.transform(x1_test)\n",
    "\n",
    "x2_data,y2_data = dataset.dataAllocation(data)\n",
    "x2_train, x2_test, y2_train, y2_test = dataset.trainSets(x2_data,y2_data)\n",
    "scaler = StandardScaler()\n",
    "scaled_x2_train = scaler.fit_transform(x2_train)\n",
    "scaled_x2_test = scaler.transform(x2_test)\n",
    "\n",
    "x_data = [x1_data, x2_data]\n",
    "y_data = [y1_data, y2_data]\n",
    "x_test = [x1_test, x2_test]\n",
    "y_test = [y1_test, y2_test]\n",
    "x_train = [x1_train, y1_train]\n",
    "y_train = [y1_train, y2_train]\n",
    "scaled_x_train = [scaled_x1_train, scaled_x2_train]\n",
    "scaled_x_test = [scaled_x1_test, scaled_x2_test]\n",
    "\n",
    "\n",
    "sizes = np.linspace(0.3, 1.0, 10)\n",
    "print(\"Heatmap for Features\")\n",
    "data_corr = sns.heatmap(pd.DataFrame(x2_data).corr(), cmap='Blues')"
   ]
  }
 ],
 "metadata": {
  "kernelspec": {
   "display_name": "Python 3",
   "language": "python",
   "name": "python3"
  },
  "language_info": {
   "codemirror_mode": {
    "name": "ipython",
    "version": 3
   },
   "file_extension": ".py",
   "mimetype": "text/x-python",
   "name": "python",
   "nbconvert_exporter": "python",
   "pygments_lexer": "ipython3",
   "version": "3.8.3"
  }
 },
 "nbformat": 4,
 "nbformat_minor": 4
}
